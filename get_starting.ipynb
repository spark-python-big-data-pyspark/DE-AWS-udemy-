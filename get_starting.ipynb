{
 "cells": [
  {
   "cell_type": "code",
   "execution_count": 1,
   "id": "0538c2c1-430b-4c5b-869e-19e277d82d14",
   "metadata": {},
   "outputs": [],
   "source": [
    "import boto3"
   ]
  },
  {
   "cell_type": "code",
   "execution_count": 2,
   "id": "c58bf68e-ab17-4c81-9077-23ca24da31b6",
   "metadata": {},
   "outputs": [],
   "source": [
    "s3_client = boto3.client('s3')"
   ]
  },
  {
   "cell_type": "code",
   "execution_count": 3,
   "id": "63ecdacb-b374-4907-a844-1f60a046b6ff",
   "metadata": {},
   "outputs": [
    {
     "data": {
      "text/plain": [
       "botocore.client.S3"
      ]
     },
     "execution_count": 3,
     "metadata": {},
     "output_type": "execute_result"
    }
   ],
   "source": [
    "type(s3_client)"
   ]
  },
  {
   "cell_type": "code",
   "execution_count": 11,
   "id": "308ebc29-7398-4645-bc90-9cc3cdad7812",
   "metadata": {},
   "outputs": [
    {
     "data": {
      "text/plain": [
       "0"
      ]
     },
     "execution_count": 11,
     "metadata": {},
     "output_type": "execute_result"
    }
   ],
   "source": [
    "buckets = s3_client.list_buckets()['Buckets']\n",
    "\n",
    "# Iterar sobre los buckets y mostrar sus nombres\n",
    "len(buckets)"
   ]
  },
  {
   "cell_type": "code",
   "execution_count": 12,
   "id": "f29c8cbd-059f-4f53-b75f-5660f7a1ab34",
   "metadata": {},
   "outputs": [],
   "source": [
    "bucket_names = [bucket['Name'] for bucket in buckets]"
   ]
  }
 ],
 "metadata": {
  "kernelspec": {
   "display_name": "Python 3 (ipykernel)",
   "language": "python",
   "name": "python3"
  },
  "language_info": {
   "codemirror_mode": {
    "name": "ipython",
    "version": 3
   },
   "file_extension": ".py",
   "mimetype": "text/x-python",
   "name": "python",
   "nbconvert_exporter": "python",
   "pygments_lexer": "ipython3",
   "version": "3.8.10"
  }
 },
 "nbformat": 4,
 "nbformat_minor": 5
}
